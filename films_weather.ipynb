{
 "cells": [
  {
   "cell_type": "code",
   "execution_count": 1,
   "metadata": {},
   "outputs": [],
   "source": [
    "import pandas as pd"
   ]
  },
  {
   "cell_type": "markdown",
   "metadata": {},
   "source": [
    "## Raw Data"
   ]
  },
  {
   "cell_type": "code",
   "execution_count": 5,
   "metadata": {},
   "outputs": [
    {
     "data": {
      "text/html": [
       "<div>\n",
       "<style scoped>\n",
       "    .dataframe tbody tr th:only-of-type {\n",
       "        vertical-align: middle;\n",
       "    }\n",
       "\n",
       "    .dataframe tbody tr th {\n",
       "        vertical-align: top;\n",
       "    }\n",
       "\n",
       "    .dataframe thead th {\n",
       "        text-align: right;\n",
       "    }\n",
       "</style>\n",
       "<table border=\"1\" class=\"dataframe\">\n",
       "  <thead>\n",
       "    <tr style=\"text-align: right;\">\n",
       "      <th></th>\n",
       "      <th>X</th>\n",
       "      <th>Y</th>\n",
       "      <th>OBJECTID</th>\n",
       "      <th>siteID</th>\n",
       "      <th>siteName</th>\n",
       "      <th>radarType</th>\n",
       "      <th>antennaElevation</th>\n",
       "    </tr>\n",
       "  </thead>\n",
       "  <tbody>\n",
       "    <tr>\n",
       "      <th>0</th>\n",
       "      <td>-98.413046</td>\n",
       "      <td>45.455833</td>\n",
       "      <td>1</td>\n",
       "      <td>KABR</td>\n",
       "      <td>ABERDEEN</td>\n",
       "      <td>NEXRAD</td>\n",
       "      <td>Unknown</td>\n",
       "    </tr>\n",
       "    <tr>\n",
       "      <th>1</th>\n",
       "      <td>-106.823880</td>\n",
       "      <td>35.149722</td>\n",
       "      <td>2</td>\n",
       "      <td>KABX</td>\n",
       "      <td>ALBUQUERQUE</td>\n",
       "      <td>NEXRAD</td>\n",
       "      <td>Unknown</td>\n",
       "    </tr>\n",
       "    <tr>\n",
       "      <th>2</th>\n",
       "      <td>-77.007491</td>\n",
       "      <td>36.983889</td>\n",
       "      <td>3</td>\n",
       "      <td>KAKQ</td>\n",
       "      <td>NORFOLK</td>\n",
       "      <td>NEXRAD</td>\n",
       "      <td>Unknown</td>\n",
       "    </tr>\n",
       "    <tr>\n",
       "      <th>3</th>\n",
       "      <td>-101.709269</td>\n",
       "      <td>35.233333</td>\n",
       "      <td>4</td>\n",
       "      <td>KAMA</td>\n",
       "      <td>AMARILLO</td>\n",
       "      <td>NEXRAD</td>\n",
       "      <td>Unknown</td>\n",
       "    </tr>\n",
       "    <tr>\n",
       "      <th>4</th>\n",
       "      <td>-80.413048</td>\n",
       "      <td>25.610556</td>\n",
       "      <td>5</td>\n",
       "      <td>KAMX</td>\n",
       "      <td>MIAMI</td>\n",
       "      <td>NEXRAD</td>\n",
       "      <td>Unknown</td>\n",
       "    </tr>\n",
       "  </tbody>\n",
       "</table>\n",
       "</div>"
      ],
      "text/plain": [
       "            X          Y  OBJECTID siteID     siteName radarType  \\\n",
       "0  -98.413046  45.455833         1   KABR     ABERDEEN    NEXRAD   \n",
       "1 -106.823880  35.149722         2   KABX  ALBUQUERQUE    NEXRAD   \n",
       "2  -77.007491  36.983889         3   KAKQ      NORFOLK    NEXRAD   \n",
       "3 -101.709269  35.233333         4   KAMA     AMARILLO    NEXRAD   \n",
       "4  -80.413048  25.610556         5   KAMX        MIAMI    NEXRAD   \n",
       "\n",
       "  antennaElevation  \n",
       "0          Unknown  \n",
       "1          Unknown  \n",
       "2          Unknown  \n",
       "3          Unknown  \n",
       "4          Unknown  "
      ]
     },
     "execution_count": 5,
     "metadata": {},
     "output_type": "execute_result"
    }
   ],
   "source": [
    "#Importing the datasets\n",
    "weather_csv = \"./csv/Weather_Radar_Stations.csv\"\n",
    "weather_df = pd.read_csv(weather_csv)\n",
    "weather_df.head()"
   ]
  },
  {
   "cell_type": "code",
   "execution_count": null,
   "metadata": {},
   "outputs": [],
   "source": []
  },
  {
   "cell_type": "code",
   "execution_count": null,
   "metadata": {},
   "outputs": [],
   "source": []
  },
  {
   "cell_type": "code",
   "execution_count": null,
   "metadata": {},
   "outputs": [],
   "source": []
  }
 ],
 "metadata": {
  "kernelspec": {
   "display_name": "Python 3",
   "language": "python",
   "name": "python3"
  },
  "language_info": {
   "codemirror_mode": {
    "name": "ipython",
    "version": 3
   },
   "file_extension": ".py",
   "mimetype": "text/x-python",
   "name": "python",
   "nbconvert_exporter": "python",
   "pygments_lexer": "ipython3",
   "version": "3.8.3"
  }
 },
 "nbformat": 4,
 "nbformat_minor": 4
}
